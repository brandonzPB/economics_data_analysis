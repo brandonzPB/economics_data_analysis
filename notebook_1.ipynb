{
 "cells": [
  {
   "cell_type": "code",
   "execution_count": 64,
   "metadata": {},
   "outputs": [],
   "source": [
    "import numpy as np"
   ]
  },
  {
   "cell_type": "code",
   "execution_count": 65,
   "metadata": {},
   "outputs": [
    {
     "name": "stdout",
     "output_type": "stream",
     "text": [
      "5\n"
     ]
    }
   ],
   "source": [
    "# list of integers: length 10\n",
    "myNums = [0, 1, 2, 3, 4, 5, 6, 7, 8, 9]\n",
    "\n",
    "# print sixth integer of the list\n",
    "print(myNums[5])"
   ]
  },
  {
   "cell_type": "code",
   "execution_count": 66,
   "metadata": {},
   "outputs": [
    {
     "name": "stdout",
     "output_type": "stream",
     "text": [
      "4.5\n"
     ]
    }
   ],
   "source": [
    "sum = 0\n",
    "\n",
    "# for loop that calculates the sum of the above list of integers\n",
    "for i in range(len(myNums)):\n",
    "    sum += myNums[i]\n",
    "    \n",
    "# calculate the mean\n",
    "mean = sum / len(myNums)\n",
    "\n",
    "print(mean)"
   ]
  },
  {
   "cell_type": "code",
   "execution_count": 67,
   "metadata": {},
   "outputs": [
    {
     "name": "stdout",
     "output_type": "stream",
     "text": [
      "4.5\n"
     ]
    }
   ],
   "source": [
    "# this function gets the mean of a variable list of integers\n",
    "\n",
    "def getMean(nums):\n",
    "    sum = 0\n",
    "    \n",
    "    for i in range(len(nums)):\n",
    "        sum += nums[i]\n",
    "        \n",
    "    return sum / len(myNums)\n",
    "\n",
    "# using the above function on myNums\n",
    "print(getMean(myNums))"
   ]
  },
  {
   "cell_type": "code",
   "execution_count": 68,
   "metadata": {},
   "outputs": [
    {
     "name": "stdout",
     "output_type": "stream",
     "text": [
      "No\n",
      "Yes\n"
     ]
    }
   ],
   "source": [
    "# this function compares a variable number (first arg) to...\n",
    "# the mean of a variable list (second arg)\n",
    "\n",
    "def compareNumToMean(num, numList):\n",
    "    mean = getMean(numList)\n",
    "    \n",
    "    if num > mean:\n",
    "        return \"Yes\"\n",
    "    else:\n",
    "        return \"No\"\n",
    "    \n",
    "# using the above function on myNums\n",
    "print(compareNumToMean(4, myNums))\n",
    "print(compareNumToMean(5, myNums))"
   ]
  },
  {
   "cell_type": "code",
   "execution_count": 69,
   "metadata": {},
   "outputs": [
    {
     "name": "stdout",
     "output_type": "stream",
     "text": [
      "[[1 2 3]\n",
      " [4 5 6]\n",
      " [7 8 9]]\n",
      "5\n",
      "6.0\n"
     ]
    }
   ],
   "source": [
    "# 3x3 numpy array\n",
    "myNumps = np.arange(1,10).reshape(3,3)\n",
    "print(myNumps)\n",
    "\n",
    "# print number in 2nd row, 2nd col\n",
    "print(myNumps[1][1])\n",
    "\n",
    "# mean of 3rd col\n",
    "print(np.mean(myNumps, axis=0)[2])"
   ]
  },
  {
   "cell_type": "code",
   "execution_count": 70,
   "metadata": {},
   "outputs": [
    {
     "name": "stdout",
     "output_type": "stream",
     "text": [
      "[[ 5 10 15]\n",
      " [20 25 30]\n",
      " [35 40 45]]\n",
      "[[ 6 12 18]\n",
      " [24 30 36]\n",
      " [42 48 54]]\n"
     ]
    }
   ],
   "source": [
    "# original array with each element multiplied by 5:\n",
    "myNumpsTimes5 = myNumps * 5\n",
    "print(myNumpsTimes5)\n",
    "\n",
    "sumArray = myNumps + myNumpsTimes5\n",
    "print(sumArray)"
   ]
  },
  {
   "cell_type": "code",
   "execution_count": 71,
   "metadata": {},
   "outputs": [
    {
     "name": "stdout",
     "output_type": "stream",
     "text": [
      "[[ 1  2  3  4  5  6  7  8  9]\n",
      " [ 5 10 15 20 25 30 35 40 45]\n",
      " [ 6 12 18 24 30 36 42 48 54]]\n"
     ]
    }
   ],
   "source": [
    "# reshape previous arrays into 1x9\n",
    "myNumps = myNumps.reshape(1,9)\n",
    "myNumpsTimes5 = myNumpsTimes5.reshape(1,9)\n",
    "sumArray = sumArray.reshape(1,9)\n",
    "\n",
    "# append myNumpsTimes5 to myNumps\n",
    "# save to fourthArray\n",
    "fourthArray = np.append(myNumps, myNumpsTimes5, axis=0)\n",
    "\n",
    "# append sumArray to fourthArray\n",
    "fourthArray = np.append(fourthArray, sumArray, axis=0)\n",
    "\n",
    "print(fourthArray)"
   ]
  },
  {
   "cell_type": "code",
   "execution_count": 72,
   "metadata": {},
   "outputs": [
    {
     "name": "stdout",
     "output_type": "stream",
     "text": [
      "[15 20 25 30 35 40 45 12 18 24 30 36 42 48 54]\n"
     ]
    }
   ],
   "source": [
    "# Get all elements greater than 10\n",
    "greaterThan10 = (fourthArray > 10)\n",
    "\n",
    "print(fourthArray[greaterThan10])"
   ]
  }
 ],
 "metadata": {
  "kernelspec": {
   "display_name": "Python 3",
   "language": "python",
   "name": "python3"
  },
  "language_info": {
   "codemirror_mode": {
    "name": "ipython",
    "version": 3
   },
   "file_extension": ".py",
   "mimetype": "text/x-python",
   "name": "python",
   "nbconvert_exporter": "python",
   "pygments_lexer": "ipython3",
   "version": "3.8.5"
  }
 },
 "nbformat": 4,
 "nbformat_minor": 4
}
