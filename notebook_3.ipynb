{
 "cells": [
  {
   "cell_type": "code",
   "execution_count": null,
   "metadata": {},
   "outputs": [],
   "source": [
    "import numpy as np\n",
    "import pandas as pd\n",
    "import statsmodels.api as sm\n",
    "import statsmodels.formula.api as smf\n",
    "from itertools import combinations\n",
    "import plotnine as p"
   ]
  },
  {
   "cell_type": "code",
   "execution_count": 3,
   "metadata": {},
   "outputs": [],
   "source": [
    "# read data\n",
    "import ssl\n",
    "ssl._crete_default_https_context = ssl._create_unverified_context\n",
    "def read_data(file):\n",
    "    return pd.read_stata(\"https://raw.github.com/scunning1975/mixtape/master/\" + file)"
   ]
  },
  {
   "cell_type": "code",
   "execution_count": 27,
   "metadata": {},
   "outputs": [],
   "source": [
    "# read Titanic data\n",
    "titanic = read_data(\"titanic.dta\")"
   ]
  },
  {
   "cell_type": "code",
   "execution_count": 28,
   "metadata": {},
   "outputs": [],
   "source": [
    "# new col variable to separate those in 1st class \n",
    "# from normal people\n",
    "titanic['d'] = 0\n",
    "\n",
    "# set variable d to 1 if person in 1st class\n",
    "titanic.loc[titanic['class']=='1st class', 'd'] = 1"
   ]
  },
  {
   "cell_type": "code",
   "execution_count": 29,
   "metadata": {},
   "outputs": [],
   "source": [
    "# new col variable to separate men from women\n",
    "titanic['sex_d'] = 0\n",
    "\n",
    "# set variable sex_d to 1 if person was a man\n",
    "titanic.loc[titanic['sex']=='man', 'sex_d'] = 1"
   ]
  },
  {
   "cell_type": "code",
   "execution_count": 30,
   "metadata": {},
   "outputs": [],
   "source": [
    "# new col variable to separate adults from children\n",
    "titanic['age_d'] = 0\n",
    "\n",
    "# set variable age_d to 1 if person was an adult\n",
    "titanic.loc[titanic['age']=='adults', 'age_d'] = 1"
   ]
  },
  {
   "cell_type": "code",
   "execution_count": 37,
   "metadata": {},
   "outputs": [],
   "source": [
    "# new col variable to separate those who lived from\n",
    "# those who didn't\n",
    "titanic['survived_d'] = 0\n",
    "\n",
    "# set variable survived_d to 1 if they lived\n",
    "titanic.loc[titanic['survived']=='yes', 'survived_d'] = 1"
   ]
  },
  {
   "cell_type": "code",
   "execution_count": 45,
   "metadata": {},
   "outputs": [],
   "source": [
    "# determine percentage of survivors not in first class\n",
    "ey0 = titanic.loc[titanic['d']==0, 'survived_d'].mean()\n",
    "\n",
    "# determined percentage of survivors in first class\n",
    "ey1 = titanic.loc[titanic['d']==1, 'survived_d'].mean()"
   ]
  },
  {
   "cell_type": "code",
   "execution_count": 47,
   "metadata": {},
   "outputs": [
    {
     "name": "stdout",
     "output_type": "stream",
     "text": [
      "The simple difference in outcomes is 35.38%\n"
     ]
    }
   ],
   "source": [
    "# get the simple difference in outcomes\n",
    "sdo = ey1 - ey0\n",
    "print(\"The simple difference in outcomes is {:.2%}\".format(sdo))"
   ]
  },
  {
   "cell_type": "code",
   "execution_count": 49,
   "metadata": {},
   "outputs": [],
   "source": [
    "# new col variable to separate young from old and by gender\n",
    "titanic['s'] = 0\n",
    "\n",
    "titanic.loc[(titanic.sex_d == 0) & (titanic.age_d == 1), 's'] = 1\n",
    "titanic.loc[(titanic.sex_d == 0) & (titanic.age_d == 0), 's'] = 2\n",
    "titanic.loc[(titanic.sex_d == 1) & (titanic.age_d == 1), 's'] = 3\n",
    "titanic.loc[(titanic.sex_d == 1) & (titanic.age_d == 0), 's'] = 4"
   ]
  },
  {
   "cell_type": "code",
   "execution_count": 80,
   "metadata": {},
   "outputs": [],
   "source": [
    "# get number of people not in 1st class\n",
    "obs = titanic.loc[titanic.d == 0].shape[0]"
   ]
  },
  {
   "cell_type": "code",
   "execution_count": 81,
   "metadata": {},
   "outputs": [],
   "source": [
    "# get simple difference in outcomes between\n",
    "# survivors in 1st class and survivors not in 1st class\n",
    "\n",
    "def weighted_avg_effect(df):\n",
    "    diff = df[df.d == 1].survived_d.mean()\n",
    "    diff -= df[df.d == 0].survived_d.mean()\n",
    "    return diff"
   ]
  },
  {
   "cell_type": "code",
   "execution_count": 89,
   "metadata": {},
   "outputs": [
    {
     "name": "stdout",
     "output_type": "stream",
     "text": [
      "The weighted average treatment effect estimate is 146.28%\n"
     ]
    }
   ],
   "source": [
    "# call weighted_avg_effect on each s \n",
    "# (young/old males/females)\n",
    "# then get the sum of all returned values\n",
    "# (i.e., get weighted average treatment effect estimate)\n",
    "\n",
    "wate = titanic.groupby('s').apply(weighted_avg_effect).sum()\n",
    "print(\"The weighted average treatment effect estimate is {:.2%}\".format(wate))"
   ]
  }
 ],
 "metadata": {
  "kernelspec": {
   "display_name": "Python 3",
   "language": "python",
   "name": "python3"
  },
  "language_info": {
   "codemirror_mode": {
    "name": "ipython",
    "version": 3
   },
   "file_extension": ".py",
   "mimetype": "text/x-python",
   "name": "python",
   "nbconvert_exporter": "python",
   "pygments_lexer": "ipython3",
   "version": "3.8.5"
  }
 },
 "nbformat": 4,
 "nbformat_minor": 4
}
