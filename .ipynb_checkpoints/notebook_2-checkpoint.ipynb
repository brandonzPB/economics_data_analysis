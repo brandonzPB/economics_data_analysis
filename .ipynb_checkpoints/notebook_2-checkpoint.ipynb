{
 "cells": [
  {
   "cell_type": "code",
   "execution_count": 124,
   "metadata": {},
   "outputs": [],
   "source": [
    "import pandas as pd\n",
    "import numpy as np\n",
    "import matplotlib.pyplot as plt\n",
    "import statsmodels.formula.api as smf\n",
    "import seaborn as sns\n",
    "\n",
    "%matplotlib inline"
   ]
  },
  {
   "cell_type": "code",
   "execution_count": 125,
   "metadata": {},
   "outputs": [
    {
     "name": "stdout",
     "output_type": "stream",
     "text": [
      "X: \n",
      "[ 2 12  3 24  4 22 10  0 10 22 29  9 22 23 20 17 18 21  4 21 22  8 14 28\n",
      "  0 18 16  1  6 16 13 29 16  0  2  1 15 24 12  3 23  7 18 18 23 25  4 23\n",
      " 22  7  3  3 18 27 19  5 28 14 26  7 18 19 17 16 15 22 15  1 21 17 19 24\n",
      " 25 28 17  3 25  7 28 19 12  8 26  0 19 22 21 13  8 10  0  3 25 16 12 11\n",
      " 29 25 18  9]\n"
     ]
    }
   ],
   "source": [
    "# array of size 1x100 with random values in range (1, 30)\n",
    "\n",
    "X = np.random.randint(30, size=100)\n",
    "print('X: ')\n",
    "print(X)"
   ]
  },
  {
   "cell_type": "code",
   "execution_count": 126,
   "metadata": {},
   "outputs": [
    {
     "name": "stdout",
     "output_type": "stream",
     "text": [
      "u: \n",
      "[-6.91214476e+00 -3.88339511e-01  1.57801939e+00  5.79220949e+00\n",
      " -2.58457635e+00 -9.78982402e+00  1.44669429e+00  1.97877190e+00\n",
      " -6.30721210e-01 -4.84485285e+00 -5.57699786e+00 -1.92876940e+00\n",
      "  2.36433114e+00 -1.97042424e+00 -2.97697986e+00  6.29189207e+00\n",
      " -1.08511819e+00 -2.79017790e+00  2.39351300e+00  7.61173457e-01\n",
      " -4.14942596e-01 -5.83601965e+00  5.23084281e-01 -3.02363766e+00\n",
      " -2.91445721e+00 -3.75433774e+00 -4.14113119e-01  1.97975791e+00\n",
      "  3.72331353e+00 -3.82962273e-01  4.55826545e+00 -3.07882324e+00\n",
      "  5.18409564e-01 -1.22710809e+00  8.74096599e+00  2.58887745e+00\n",
      "  4.01051697e+00 -1.07387621e+01 -2.79344588e+00  3.24261539e+00\n",
      "  5.38141265e+00  4.03929469e+00 -3.55319889e+00  6.44130721e+00\n",
      " -4.00692643e+00  3.20982451e+00 -2.54592357e+00  1.58382152e+00\n",
      "  5.57778041e+00 -1.47267100e+00  1.96868718e+00 -2.64515427e+00\n",
      "  1.09241474e+00  2.92687603e+00 -1.06173374e+01  8.99078103e+00\n",
      "  2.83106762e+00 -1.57706420e+00  9.61739070e+00 -2.92858956e+00\n",
      " -3.66852399e+00  3.91528017e+00  3.43712050e+00  4.32838066e+00\n",
      "  1.39620394e+00  6.21567250e+00 -4.55688230e+00 -3.05162835e+00\n",
      "  1.78764980e+00 -7.36044924e-01 -1.35811799e+00  2.51338193e+00\n",
      " -1.75881403e+00 -3.92015263e-01 -6.62035059e-03  2.45508594e+00\n",
      " -4.95285799e-01 -1.71571812e+00  1.31148242e+00  6.81155293e-01\n",
      "  2.72317009e+00  4.55971270e-01  3.91249838e-01  7.75799823e+00\n",
      " -5.33544378e+00  6.05809023e+00 -6.44669482e+00 -2.75976980e+00\n",
      " -5.22660027e-01  3.36279672e+00 -5.82579517e-02 -2.58954004e+00\n",
      "  8.69084985e-01  3.92616414e+00  6.78054588e+00 -3.04867855e+00\n",
      " -5.48461937e-01 -2.22967524e+00 -2.94748461e-01 -1.81831897e+00]\n"
     ]
    }
   ],
   "source": [
    "# array of size 1x100 with random draws from a normal distribution with\n",
    "# mean 0 and variance 4\n",
    "\n",
    "mean, var = 0, 4\n",
    "u = np.random.normal(mean, var, 100)\n",
    "print('u: ')\n",
    "print(u)"
   ]
  },
  {
   "cell_type": "code",
   "execution_count": 127,
   "metadata": {},
   "outputs": [
    {
     "name": "stdout",
     "output_type": "stream",
     "text": [
      "Y: \n",
      "[46.08785524 67.61166049 56.07801939 91.79220949 53.41542365 73.21017598\n",
      " 66.44669429 51.9787719  64.36927879 78.15514715 87.92300214 61.5712306\n",
      " 85.36433114 82.52957576 77.02302014 81.79189207 75.91488181 78.7098221\n",
      " 58.393513   82.26117346 82.5850574  56.16398035 71.52308428 88.97636234\n",
      " 47.08554279 73.24566226 73.58588688 53.47975791 62.72331353 73.61703773\n",
      " 74.05826545 90.42117676 74.51840956 48.77289191 61.74096599 54.08887745\n",
      " 76.51051697 75.26123785 65.20655412 57.74261539 89.88141265 64.53929469\n",
      " 73.44680111 83.44130721 80.49307357 90.70982451 53.45407643 86.08382152\n",
      " 88.57778041 59.027329   56.46868718 51.85484573 78.09241474 93.42687603\n",
      " 67.88266262 66.49078103 94.83106762 69.4229358  98.6173907  57.57141044\n",
      " 73.33147601 82.41528017 78.9371205  78.32838066 73.89620394 89.2156725\n",
      " 67.9431177  48.44837165 83.2876498  74.76395508 77.14188201 88.51338193\n",
      " 85.74118597 91.60798474 75.49337965 56.95508594 87.0047142  58.78428188\n",
      " 93.31148242 79.18115529 70.72317009 62.45597127 89.39124984 57.75799823\n",
      " 73.16455622 89.05809023 75.05330518 66.7402302  61.47733997 68.36279672\n",
      " 49.94174205 51.91045996 88.36908498 77.92616414 74.78054588 63.45132145\n",
      " 92.95153806 85.27032476 76.70525154 61.68168103]\n"
     ]
    }
   ],
   "source": [
    "Y = 50 + 1.5 * X + u\n",
    "print('Y: ')\n",
    "print(Y)"
   ]
  },
  {
   "cell_type": "code",
   "execution_count": 128,
   "metadata": {},
   "outputs": [
    {
     "data": {
      "text/html": [
       "<div>\n",
       "<style scoped>\n",
       "    .dataframe tbody tr th:only-of-type {\n",
       "        vertical-align: middle;\n",
       "    }\n",
       "\n",
       "    .dataframe tbody tr th {\n",
       "        vertical-align: top;\n",
       "    }\n",
       "\n",
       "    .dataframe thead th {\n",
       "        text-align: right;\n",
       "    }\n",
       "</style>\n",
       "<table border=\"1\" class=\"dataframe\">\n",
       "  <thead>\n",
       "    <tr style=\"text-align: right;\">\n",
       "      <th></th>\n",
       "      <th>study_time</th>\n",
       "      <th>exam_score</th>\n",
       "      <th>error</th>\n",
       "    </tr>\n",
       "  </thead>\n",
       "  <tbody>\n",
       "    <tr>\n",
       "      <th>0</th>\n",
       "      <td>2</td>\n",
       "      <td>46.087855</td>\n",
       "      <td>-6.912145</td>\n",
       "    </tr>\n",
       "    <tr>\n",
       "      <th>1</th>\n",
       "      <td>12</td>\n",
       "      <td>67.611660</td>\n",
       "      <td>-0.388340</td>\n",
       "    </tr>\n",
       "    <tr>\n",
       "      <th>2</th>\n",
       "      <td>3</td>\n",
       "      <td>56.078019</td>\n",
       "      <td>1.578019</td>\n",
       "    </tr>\n",
       "    <tr>\n",
       "      <th>3</th>\n",
       "      <td>24</td>\n",
       "      <td>91.792209</td>\n",
       "      <td>5.792209</td>\n",
       "    </tr>\n",
       "    <tr>\n",
       "      <th>4</th>\n",
       "      <td>4</td>\n",
       "      <td>53.415424</td>\n",
       "      <td>-2.584576</td>\n",
       "    </tr>\n",
       "    <tr>\n",
       "      <th>5</th>\n",
       "      <td>22</td>\n",
       "      <td>73.210176</td>\n",
       "      <td>-9.789824</td>\n",
       "    </tr>\n",
       "    <tr>\n",
       "      <th>6</th>\n",
       "      <td>10</td>\n",
       "      <td>66.446694</td>\n",
       "      <td>1.446694</td>\n",
       "    </tr>\n",
       "    <tr>\n",
       "      <th>7</th>\n",
       "      <td>0</td>\n",
       "      <td>51.978772</td>\n",
       "      <td>1.978772</td>\n",
       "    </tr>\n",
       "    <tr>\n",
       "      <th>8</th>\n",
       "      <td>10</td>\n",
       "      <td>64.369279</td>\n",
       "      <td>-0.630721</td>\n",
       "    </tr>\n",
       "    <tr>\n",
       "      <th>9</th>\n",
       "      <td>22</td>\n",
       "      <td>78.155147</td>\n",
       "      <td>-4.844853</td>\n",
       "    </tr>\n",
       "  </tbody>\n",
       "</table>\n",
       "</div>"
      ],
      "text/plain": [
       "   study_time  exam_score     error\n",
       "0           2   46.087855 -6.912145\n",
       "1          12   67.611660 -0.388340\n",
       "2           3   56.078019  1.578019\n",
       "3          24   91.792209  5.792209\n",
       "4           4   53.415424 -2.584576\n",
       "5          22   73.210176 -9.789824\n",
       "6          10   66.446694  1.446694\n",
       "7           0   51.978772  1.978772\n",
       "8          10   64.369279 -0.630721\n",
       "9          22   78.155147 -4.844853"
      ]
     },
     "execution_count": 128,
     "metadata": {},
     "output_type": "execute_result"
    }
   ],
   "source": [
    "data = {\n",
    "    'study_time': X,\n",
    "    'exam_score': Y,\n",
    "    'error': u\n",
    "}\n",
    "\n",
    "df = pd.DataFrame(data)\n",
    "df.head(10)"
   ]
  },
  {
   "cell_type": "code",
   "execution_count": 129,
   "metadata": {},
   "outputs": [
    {
     "name": "stdout",
     "output_type": "stream",
     "text": [
      "Mean below 15 hours: \n",
      "6.214285714285714\n",
      "Mean above or equal to 15 hours: \n",
      "21.362068965517242\n"
     ]
    }
   ],
   "source": [
    "# mean exam score for students who studied < 15 hours\n",
    "meanBelow15Hrs = (X[X < 15]).mean()\n",
    "print('Mean below 15 hours: ')\n",
    "print(meanBelow15Hrs)\n",
    "\n",
    "#mean exam score for students who studied >= 15 hours\n",
    "meanAbove15Hrs = (X[X >= 15]).mean()\n",
    "print('Mean above or equal to 15 hours: ')\n",
    "print(meanAbove15Hrs)"
   ]
  },
  {
   "cell_type": "code",
   "execution_count": 130,
   "metadata": {},
   "outputs": [
    {
     "data": {
      "text/plain": [
       "Intercept     50.724301\n",
       "study_time     1.463529\n",
       "dtype: float64"
      ]
     },
     "execution_count": 130,
     "metadata": {},
     "output_type": "execute_result"
    }
   ],
   "source": [
    "# OLS regression of data\n",
    "lm = smf.ols(formula='exam_score ~ study_time', data=data).fit()\n",
    "\n",
    "lm.params"
   ]
  },
  {
   "cell_type": "code",
   "execution_count": 131,
   "metadata": {},
   "outputs": [
    {
     "data": {
      "text/html": [
       "<div>\n",
       "<style scoped>\n",
       "    .dataframe tbody tr th:only-of-type {\n",
       "        vertical-align: middle;\n",
       "    }\n",
       "\n",
       "    .dataframe tbody tr th {\n",
       "        vertical-align: top;\n",
       "    }\n",
       "\n",
       "    .dataframe thead th {\n",
       "        text-align: right;\n",
       "    }\n",
       "</style>\n",
       "<table border=\"1\" class=\"dataframe\">\n",
       "  <thead>\n",
       "    <tr style=\"text-align: right;\">\n",
       "      <th></th>\n",
       "      <th>study_time</th>\n",
       "      <th>exam_score</th>\n",
       "      <th>error</th>\n",
       "      <th>predictions</th>\n",
       "    </tr>\n",
       "  </thead>\n",
       "  <tbody>\n",
       "    <tr>\n",
       "      <th>0</th>\n",
       "      <td>2</td>\n",
       "      <td>46.087855</td>\n",
       "      <td>-6.912145</td>\n",
       "      <td>53.651359</td>\n",
       "    </tr>\n",
       "    <tr>\n",
       "      <th>1</th>\n",
       "      <td>12</td>\n",
       "      <td>67.611660</td>\n",
       "      <td>-0.388340</td>\n",
       "      <td>68.286646</td>\n",
       "    </tr>\n",
       "    <tr>\n",
       "      <th>2</th>\n",
       "      <td>3</td>\n",
       "      <td>56.078019</td>\n",
       "      <td>1.578019</td>\n",
       "      <td>55.114888</td>\n",
       "    </tr>\n",
       "    <tr>\n",
       "      <th>3</th>\n",
       "      <td>24</td>\n",
       "      <td>91.792209</td>\n",
       "      <td>5.792209</td>\n",
       "      <td>85.848991</td>\n",
       "    </tr>\n",
       "    <tr>\n",
       "      <th>4</th>\n",
       "      <td>4</td>\n",
       "      <td>53.415424</td>\n",
       "      <td>-2.584576</td>\n",
       "      <td>56.578416</td>\n",
       "    </tr>\n",
       "    <tr>\n",
       "      <th>...</th>\n",
       "      <td>...</td>\n",
       "      <td>...</td>\n",
       "      <td>...</td>\n",
       "      <td>...</td>\n",
       "    </tr>\n",
       "    <tr>\n",
       "      <th>95</th>\n",
       "      <td>11</td>\n",
       "      <td>63.451321</td>\n",
       "      <td>-3.048679</td>\n",
       "      <td>66.823118</td>\n",
       "    </tr>\n",
       "    <tr>\n",
       "      <th>96</th>\n",
       "      <td>29</td>\n",
       "      <td>92.951538</td>\n",
       "      <td>-0.548462</td>\n",
       "      <td>93.166635</td>\n",
       "    </tr>\n",
       "    <tr>\n",
       "      <th>97</th>\n",
       "      <td>25</td>\n",
       "      <td>85.270325</td>\n",
       "      <td>-2.229675</td>\n",
       "      <td>87.312520</td>\n",
       "    </tr>\n",
       "    <tr>\n",
       "      <th>98</th>\n",
       "      <td>18</td>\n",
       "      <td>76.705252</td>\n",
       "      <td>-0.294748</td>\n",
       "      <td>77.067819</td>\n",
       "    </tr>\n",
       "    <tr>\n",
       "      <th>99</th>\n",
       "      <td>9</td>\n",
       "      <td>61.681681</td>\n",
       "      <td>-1.818319</td>\n",
       "      <td>63.896060</td>\n",
       "    </tr>\n",
       "  </tbody>\n",
       "</table>\n",
       "<p>100 rows × 4 columns</p>\n",
       "</div>"
      ],
      "text/plain": [
       "    study_time  exam_score     error  predictions\n",
       "0            2   46.087855 -6.912145    53.651359\n",
       "1           12   67.611660 -0.388340    68.286646\n",
       "2            3   56.078019  1.578019    55.114888\n",
       "3           24   91.792209  5.792209    85.848991\n",
       "4            4   53.415424 -2.584576    56.578416\n",
       "..         ...         ...       ...          ...\n",
       "95          11   63.451321 -3.048679    66.823118\n",
       "96          29   92.951538 -0.548462    93.166635\n",
       "97          25   85.270325 -2.229675    87.312520\n",
       "98          18   76.705252 -0.294748    77.067819\n",
       "99           9   61.681681 -1.818319    63.896060\n",
       "\n",
       "[100 rows x 4 columns]"
      ]
     },
     "execution_count": 131,
     "metadata": {},
     "output_type": "execute_result"
    }
   ],
   "source": [
    "# get predictions and add to data frame\n",
    "\n",
    "predictions = lm.predict(df)\n",
    "\n",
    "df['predictions'] = predictions\n",
    "df"
   ]
  },
  {
   "cell_type": "code",
   "execution_count": 132,
   "metadata": {},
   "outputs": [
    {
     "name": "stdout",
     "output_type": "stream",
     "text": [
      "residuals: \n",
      "0    -7.563504\n",
      "1    -0.674986\n",
      "2     0.963132\n",
      "3     5.943218\n",
      "4    -3.162993\n",
      "        ...   \n",
      "95   -3.371796\n",
      "96   -0.215097\n",
      "97   -2.042195\n",
      "98   -0.362567\n",
      "99   -2.214379\n",
      "Length: 100, dtype: float64\n",
      "residuals compared to error: \n",
      "0     0.651359\n",
      "1     0.286646\n",
      "2     0.614888\n",
      "3     0.151009\n",
      "4     0.578416\n",
      "        ...   \n",
      "95    0.323118\n",
      "96    0.333365\n",
      "97    0.187480\n",
      "98    0.067819\n",
      "99    0.396060\n",
      "Length: 100, dtype: float64\n"
     ]
    }
   ],
   "source": [
    "# residuals (actual score - predicted score)\n",
    "residuals = df['exam_score'] - df['predictions']\n",
    "print('residuals: ')\n",
    "print(residuals)\n",
    "\n",
    "# compare residuals to error values\n",
    "residualComparison = abs(df['error'] - residuals)\n",
    "print('residuals compared to error: ')\n",
    "print(residualComparison)"
   ]
  },
  {
   "cell_type": "markdown",
   "metadata": {},
   "source": [
    "Since the absolute values of the difference between the residuals and the error values are close to 0,\n",
    "it seems to me that the residual values are fairly close to the error values"
   ]
  },
  {
   "cell_type": "code",
   "execution_count": 147,
   "metadata": {},
   "outputs": [
    {
     "data": {
      "text/plain": [
       "<AxesSubplot:xlabel='exam_score', ylabel='predictions'>"
      ]
     },
     "execution_count": 147,
     "metadata": {},
     "output_type": "execute_result"
    },
    {
     "data": {
      "image/png": "[encoded data removed]",
      "text/plain": [
       "<Figure size 432x288 with 1 Axes>"
      ]
     },
     "metadata": {
      "needs_background": "light"
     },
     "output_type": "display_data"
    }
   ],
   "source": [
    "sns.scatterplot(x='exam_score', y='predictions', data=df, hue=\"study_time\")"
   ]
  },
  {
   "cell_type": "code",
   "execution_count": 140,
   "metadata": {},
   "outputs": [
    {
     "data": {
      "text/plain": [
       "<AxesSubplot:xlabel='study_time', ylabel='exam_score'>"
      ]
     },
     "execution_count": 140,
     "metadata": {},
     "output_type": "execute_result"
    },
    {
     "data": {
      "image/png": "[encoded data removed]",
      "text/plain": [
       "<Figure size 432x288 with 1 Axes>"
      ]
     },
     "metadata": {
      "needs_background": "light"
     },
     "output_type": "display_data"
    }
   ],
   "source": [
    "sns.regplot(x='study_time', y='exam_score', data=df)"
   ]
  }
 ],
 "metadata": {
  "kernelspec": {
   "display_name": "Python 3",
   "language": "python",
   "name": "python3"
  },
  "language_info": {
   "codemirror_mode": {
    "name": "ipython",
    "version": 3
   },
   "file_extension": ".py",
   "mimetype": "text/x-python",
   "name": "python",
   "nbconvert_exporter": "python",
   "pygments_lexer": "ipython3",
   "version": "3.8.5"
  }
 },
 "nbformat": 4,
 "nbformat_minor": 4
}
